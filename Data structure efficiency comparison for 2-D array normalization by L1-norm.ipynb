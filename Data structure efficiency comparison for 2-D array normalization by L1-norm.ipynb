{
 "cells": [
  {
   "cell_type": "markdown",
   "metadata": {},
   "source": [
    "### Imports and implementations to test"
   ]
  },
  {
   "cell_type": "code",
   "execution_count": 10,
   "metadata": {
    "collapsed": true
   },
   "outputs": [],
   "source": [
    "import numpy as np\n",
    "import time as t"
   ]
  },
  {
   "cell_type": "code",
   "execution_count": 76,
   "metadata": {
    "collapsed": true
   },
   "outputs": [],
   "source": [
    "def find_distance_norm(pos1, pos2): # very slow for arrays(n=2), should not have been used\n",
    "    return np.linalg.norm(pos1 - pos2, 1)"
   ]
  },
  {
   "cell_type": "code",
   "execution_count": 131,
   "metadata": {
    "collapsed": true
   },
   "outputs": [],
   "source": [
    "def find_distance_bi(pos1, pos2): # good for np.arrays, better for list of tuples\n",
    "    return (abs(pos1[0] - pos2[0]) + abs(pos1[1] - pos2[1]))"
   ]
  },
  {
   "cell_type": "code",
   "execution_count": 82,
   "metadata": {},
   "outputs": [],
   "source": [
    "def find_distance_vec(pos1, pos2): # vector algebra, doesn't work with tuples\n",
    "    return sum(abs(pos1-pos2))"
   ]
  },
  {
   "cell_type": "code",
   "execution_count": 87,
   "metadata": {
    "collapsed": true
   },
   "outputs": [],
   "source": [
    "def find_distance_vec_np(pos1, pos2): # vector algebra with numPy, doesn't work with tuples\n",
    "    return np.sum(np.abs(pos1-pos2))"
   ]
  },
  {
   "cell_type": "markdown",
   "metadata": {},
   "source": [
    "### Preparations"
   ]
  },
  {
   "cell_type": "code",
   "execution_count": 75,
   "metadata": {},
   "outputs": [],
   "source": [
    "n = int(1e7)\n",
    "distances = np.zeros((n, 1))\n",
    "target = np.array([0,0])"
   ]
  },
  {
   "cell_type": "code",
   "execution_count": 109,
   "metadata": {},
   "outputs": [
    {
     "data": {
      "text/plain": [
       "array([[1, 1],\n",
       "       [0, 1],\n",
       "       [0, 0],\n",
       "       [1, 0],\n",
       "       [1, 0]])"
      ]
     },
     "execution_count": 109,
     "metadata": {},
     "output_type": "execute_result"
    }
   ],
   "source": [
    "np_array = np.random.randint(2, size=(n,2))\n",
    "np_array[:5]"
   ]
  },
  {
   "cell_type": "code",
   "execution_count": 110,
   "metadata": {},
   "outputs": [
    {
     "data": {
      "text/plain": [
       "[[1, 1], [0, 1], [0, 0], [1, 0], [1, 0]]"
      ]
     },
     "execution_count": 110,
     "metadata": {},
     "output_type": "execute_result"
    }
   ],
   "source": [
    "bi_list = np_array.tolist()\n",
    "bi_list[:5]"
   ]
  },
  {
   "cell_type": "code",
   "execution_count": 113,
   "metadata": {},
   "outputs": [
    {
     "data": {
      "text/plain": [
       "[(1, 1), (0, 1), (0, 0), (1, 0), (1, 0)]"
      ]
     },
     "execution_count": 113,
     "metadata": {},
     "output_type": "execute_result"
    }
   ],
   "source": [
    "bi_tuples = [(v[0], v[1]) for v in bi_list]\n",
    "bi_tuples[:5]"
   ]
  },
  {
   "cell_type": "markdown",
   "metadata": {},
   "source": [
    "### Type checks"
   ]
  },
  {
   "cell_type": "code",
   "execution_count": 115,
   "metadata": {},
   "outputs": [
    {
     "data": {
      "text/plain": [
       "numpy.ndarray"
      ]
     },
     "execution_count": 115,
     "metadata": {},
     "output_type": "execute_result"
    }
   ],
   "source": [
    "type(np_array)"
   ]
  },
  {
   "cell_type": "code",
   "execution_count": 149,
   "metadata": {},
   "outputs": [
    {
     "data": {
      "text/plain": [
       "list"
      ]
     },
     "execution_count": 149,
     "metadata": {},
     "output_type": "execute_result"
    }
   ],
   "source": [
    "type(bi_list)"
   ]
  },
  {
   "cell_type": "code",
   "execution_count": 150,
   "metadata": {},
   "outputs": [
    {
     "data": {
      "text/plain": [
       "list"
      ]
     },
     "execution_count": 150,
     "metadata": {},
     "output_type": "execute_result"
    }
   ],
   "source": [
    "type(bi_list[0])"
   ]
  },
  {
   "cell_type": "code",
   "execution_count": 117,
   "metadata": {},
   "outputs": [
    {
     "data": {
      "text/plain": [
       "list"
      ]
     },
     "execution_count": 117,
     "metadata": {},
     "output_type": "execute_result"
    }
   ],
   "source": [
    "type(bi_tuples)"
   ]
  },
  {
   "cell_type": "code",
   "execution_count": 119,
   "metadata": {},
   "outputs": [
    {
     "data": {
      "text/plain": [
       "tuple"
      ]
     },
     "execution_count": 119,
     "metadata": {},
     "output_type": "execute_result"
    }
   ],
   "source": [
    "type(bi_tuples[0])"
   ]
  },
  {
   "cell_type": "markdown",
   "metadata": {},
   "source": [
    "### Performance function for for-loop"
   ]
  },
  {
   "cell_type": "code",
   "execution_count": 144,
   "metadata": {
    "collapsed": true
   },
   "outputs": [],
   "source": [
    "def performance(f, data_struct, n=n, target=target):\n",
    "    start_time = t.time()\n",
    "    for i in range(n):\n",
    "        distances[i] = f(data_struct[i], target)\n",
    "    return t.time() - start_time"
   ]
  },
  {
   "cell_type": "markdown",
   "metadata": {},
   "source": [
    "### For-loop tests with ndarray"
   ]
  },
  {
   "cell_type": "code",
   "execution_count": 152,
   "metadata": {
    "collapsed": true
   },
   "outputs": [],
   "source": [
    "func = [find_distance_bi, find_distance_vec, find_distance_vec_np, find_distance_norm] # functions to test"
   ]
  },
  {
   "cell_type": "code",
   "execution_count": 145,
   "metadata": {},
   "outputs": [
    {
     "name": "stdout",
     "output_type": "stream",
     "text": [
      "Total time taken: 19.80888056755066, tested: find_distance_bi\n",
      "Total time taken: 56.1346549987793, tested: find_distance_vec\n",
      "Total time taken: 96.89424157142639, tested: find_distance_vec_np\n",
      "Total time taken: 153.18575859069824, tested: find_distance_norm\n"
     ]
    }
   ],
   "source": [
    "for f in func:\n",
    "    res = performance(f, np_array)\n",
    "    print(f'Total time taken: {res}, tested: {f.__name__}')"
   ]
  },
  {
   "cell_type": "code",
   "execution_count": 147,
   "metadata": {},
   "outputs": [
    {
     "data": {
      "text/plain": [
       "array([[ 2.],\n",
       "       [ 1.],\n",
       "       [ 0.],\n",
       "       [ 1.],\n",
       "       [ 1.]])"
      ]
     },
     "execution_count": 147,
     "metadata": {},
     "output_type": "execute_result"
    }
   ],
   "source": [
    "distances[:5]"
   ]
  },
  {
   "cell_type": "markdown",
   "metadata": {},
   "source": [
    "### For-loop tests with nested in-built lists"
   ]
  },
  {
   "cell_type": "code",
   "execution_count": 153,
   "metadata": {
    "collapsed": true
   },
   "outputs": [],
   "source": [
    "func = [find_distance_bi, find_distance_vec, find_distance_vec_np, find_distance_norm] # functions to test"
   ]
  },
  {
   "cell_type": "code",
   "execution_count": 148,
   "metadata": {},
   "outputs": [
    {
     "name": "stdout",
     "output_type": "stream",
     "text": [
      "Total time taken: 17.329957962036133, tested: find_distance_bi\n",
      "Total time taken: 88.06503868103027, tested: find_distance_vec\n",
      "Total time taken: 139.55150318145752, tested: find_distance_vec_np\n",
      "Total time taken: 206.92552304267883, tested: find_distance_norm\n"
     ]
    }
   ],
   "source": [
    "for f in func:\n",
    "    res = performance(f, bi_list)\n",
    "    print(f'Total time taken: {res}, tested: {f.__name__}')"
   ]
  },
  {
   "cell_type": "code",
   "execution_count": 151,
   "metadata": {},
   "outputs": [
    {
     "data": {
      "text/plain": [
       "array([[ 2.],\n",
       "       [ 1.],\n",
       "       [ 0.],\n",
       "       [ 1.],\n",
       "       [ 1.]])"
      ]
     },
     "execution_count": 151,
     "metadata": {},
     "output_type": "execute_result"
    }
   ],
   "source": [
    "distances[:5]"
   ]
  },
  {
   "cell_type": "markdown",
   "metadata": {},
   "source": [
    "### For-loop tests with list of tuples"
   ]
  },
  {
   "cell_type": "code",
   "execution_count": 159,
   "metadata": {
    "collapsed": true
   },
   "outputs": [],
   "source": [
    "func = [find_distance_bi, find_distance_vec, find_distance_vec_np, find_distance_norm] # functions to test"
   ]
  },
  {
   "cell_type": "code",
   "execution_count": 162,
   "metadata": {},
   "outputs": [
    {
     "name": "stdout",
     "output_type": "stream",
     "text": [
      "Total time taken: 17.36513113975525, tested: find_distance_bi\n",
      "Total time taken: 92.77490258216858, tested: find_distance_vec\n",
      "Total time taken: 136.1372253894806, tested: find_distance_vec_np\n",
      "Total time taken: 206.48683667182922, tested: find_distance_norm\n"
     ]
    }
   ],
   "source": [
    "for f in func:\n",
    "    res = performance(f, bi_tuples)\n",
    "    print(f'Total time taken: {res}, tested: {f.__name__}')"
   ]
  },
  {
   "cell_type": "code",
   "execution_count": 164,
   "metadata": {},
   "outputs": [
    {
     "data": {
      "text/plain": [
       "array([[ 2.],\n",
       "       [ 1.],\n",
       "       [ 0.],\n",
       "       [ 1.],\n",
       "       [ 1.]])"
      ]
     },
     "execution_count": 164,
     "metadata": {},
     "output_type": "execute_result"
    }
   ],
   "source": [
    "distances[:5]"
   ]
  },
  {
   "cell_type": "markdown",
   "metadata": {},
   "source": [
    "### For-loop conclusions:\n",
    "    1. Built-in distance function is the fasted distance function across all tested data structures\n",
    "    2. List of tuples perform as good as nested list with the fasted distance function (in ~17.3)\n",
    "    3. numpy.ndarrays performs the best with vector algebra-related functions by far, but the distance function\n",
    "       is still slower"
   ]
  },
  {
   "cell_type": "markdown",
   "metadata": {},
   "source": [
    "### Performace function for numpy.fromiter"
   ]
  },
  {
   "cell_type": "code",
   "execution_count": 185,
   "metadata": {
    "collapsed": true
   },
   "outputs": [],
   "source": [
    "# We don't use lambdas here because we want to be able to print out the fuction name in the for-loop\n",
    "def dec_bi(t): return find_distance_bi(t, target) # dec stands for 'decorated'; we don't use lambdas here because\n",
    "def dec_vec(t): return find_distance_vec(t, target)\n",
    "def dec_vec_np(t): return find_distance_vec_np(t, target)\n",
    "def dec_norm(t): return find_distance_norm(t, target)"
   ]
  },
  {
   "cell_type": "code",
   "execution_count": 196,
   "metadata": {},
   "outputs": [],
   "source": [
    "def performance_fromiter(f, data_struct, n=n, target=target, dtype=np.int32):\n",
    "    start_time = t.time()\n",
    "    distances = np.fromiter([f(vec) for vec in data_struct], dtype=dtype, count=n)\n",
    "    return t.time() - start_time"
   ]
  },
  {
   "cell_type": "markdown",
   "metadata": {},
   "source": [
    "### numpy.fromiter tests with np.ndarray"
   ]
  },
  {
   "cell_type": "code",
   "execution_count": 187,
   "metadata": {},
   "outputs": [],
   "source": [
    "func = [dec_bi, dec_vec, dec_vec_np, dec_norm] # functions to test"
   ]
  },
  {
   "cell_type": "code",
   "execution_count": 197,
   "metadata": {},
   "outputs": [
    {
     "name": "stdout",
     "output_type": "stream",
     "text": [
      "Total time taken: 14.165681600570679, tested: dec_bi\n",
      "Total time taken: 44.89225745201111, tested: dec_vec\n",
      "Total time taken: 87.711678981781, tested: dec_vec_np\n",
      "Total time taken: 147.02865481376648, tested: dec_norm\n"
     ]
    }
   ],
   "source": [
    "for f in func:\n",
    "    res = performance_fromiter(f, np_array)\n",
    "    print(f'Total time taken: {res}, tested: {f.__name__}')"
   ]
  },
  {
   "cell_type": "code",
   "execution_count": 199,
   "metadata": {},
   "outputs": [
    {
     "data": {
      "text/plain": [
       "array([[ 2.],\n",
       "       [ 1.],\n",
       "       [ 0.],\n",
       "       [ 1.],\n",
       "       [ 1.]])"
      ]
     },
     "execution_count": 199,
     "metadata": {},
     "output_type": "execute_result"
    }
   ],
   "source": [
    "distances[:5]"
   ]
  },
  {
   "cell_type": "markdown",
   "metadata": {},
   "source": [
    "### numpy.fromiter tests with a nested list"
   ]
  },
  {
   "cell_type": "code",
   "execution_count": 191,
   "metadata": {
    "collapsed": true
   },
   "outputs": [],
   "source": [
    "func = [dec_bi, dec_vec, dec_vec_np, dec_norm] # functions to test"
   ]
  },
  {
   "cell_type": "code",
   "execution_count": 198,
   "metadata": {},
   "outputs": [
    {
     "name": "stdout",
     "output_type": "stream",
     "text": [
      "Total time taken: 10.638958215713501, tested: dec_bi\n",
      "Total time taken: 77.34232234954834, tested: dec_vec\n",
      "Total time taken: 126.01267528533936, tested: dec_vec_np\n",
      "Total time taken: 198.65167474746704, tested: dec_norm\n"
     ]
    }
   ],
   "source": [
    "for f in func:\n",
    "    res = performance_fromiter(f, bi_list)\n",
    "    print(f'Total time taken: {res}, tested: {f.__name__}')"
   ]
  },
  {
   "cell_type": "code",
   "execution_count": 193,
   "metadata": {},
   "outputs": [
    {
     "data": {
      "text/plain": [
       "array([[ 2.],\n",
       "       [ 1.],\n",
       "       [ 0.],\n",
       "       [ 1.],\n",
       "       [ 1.]])"
      ]
     },
     "execution_count": 193,
     "metadata": {},
     "output_type": "execute_result"
    }
   ],
   "source": [
    "distances[:5]"
   ]
  },
  {
   "cell_type": "markdown",
   "metadata": {},
   "source": [
    "### numpy.fromiter tests with a list of tuples"
   ]
  },
  {
   "cell_type": "code",
   "execution_count": 200,
   "metadata": {
    "collapsed": true
   },
   "outputs": [],
   "source": [
    "func = [dec_bi, dec_vec, dec_vec_np, dec_norm] # functions to test"
   ]
  },
  {
   "cell_type": "code",
   "execution_count": 201,
   "metadata": {},
   "outputs": [
    {
     "name": "stdout",
     "output_type": "stream",
     "text": [
      "Total time taken: 10.850730895996094, tested: dec_bi\n",
      "Total time taken: 74.99896883964539, tested: dec_vec\n",
      "Total time taken: 122.50127458572388, tested: dec_vec_np\n",
      "Total time taken: 191.18013072013855, tested: dec_norm\n"
     ]
    }
   ],
   "source": [
    "for f in func:\n",
    "    res = performance_fromiter(f, bi_tuples)\n",
    "    print(f'Total time taken: {res}, tested: {f.__name__}')"
   ]
  },
  {
   "cell_type": "code",
   "execution_count": 33,
   "metadata": {},
   "outputs": [
    {
     "data": {
      "text/plain": [
       "array([ 2.,  0.,  1.,  2.,  2.,  0.,  1.,  0.,  0.,  2.])"
      ]
     },
     "execution_count": 33,
     "metadata": {},
     "output_type": "execute_result"
    }
   ],
   "source": [
    "distances[:5]"
   ]
  },
  {
   "cell_type": "code",
   "execution_count": null,
   "metadata": {
    "collapsed": true
   },
   "outputs": [],
   "source": []
  },
  {
   "cell_type": "code",
   "execution_count": null,
   "metadata": {
    "collapsed": true
   },
   "outputs": [],
   "source": []
  },
  {
   "cell_type": "code",
   "execution_count": null,
   "metadata": {
    "collapsed": true
   },
   "outputs": [],
   "source": []
  }
 ],
 "metadata": {
  "kernelspec": {
   "display_name": "Python 3",
   "language": "python",
   "name": "python3"
  },
  "language_info": {
   "codemirror_mode": {
    "name": "ipython",
    "version": 3
   },
   "file_extension": ".py",
   "mimetype": "text/x-python",
   "name": "python",
   "nbconvert_exporter": "python",
   "pygments_lexer": "ipython3",
   "version": "3.6.2"
  }
 },
 "nbformat": 4,
 "nbformat_minor": 2
}
